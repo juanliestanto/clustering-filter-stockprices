{
  "nbformat": 4,
  "nbformat_minor": 0,
  "metadata": {
    "colab": {
      "provenance": []
    },
    "kernelspec": {
      "name": "python3",
      "display_name": "Python 3"
    },
    "language_info": {
      "name": "python"
    }
  },
  "cells": [
    {
      "cell_type": "code",
      "metadata": {
        "id": "O1BR65c46xC0"
      },
      "source": [
        "import pandas as pd\n",
        "import numpy as np\n",
        "import matplotlib.pyplot as plt\n",
        "import seaborn as sns"
      ],
      "execution_count": null,
      "outputs": []
    },
    {
      "cell_type": "markdown",
      "metadata": {
        "id": "NZlXqACz0yO-"
      },
      "source": [
        "kode diatas merupakan pengimportan library yang akan digunakan pada projek ini."
      ]
    },
    {
      "cell_type": "markdown",
      "metadata": {
        "id": "YfkbJLCAAwJy"
      },
      "source": [
        "#Exploration Data Analyst\n"
      ]
    },
    {
      "cell_type": "code",
      "metadata": {
        "colab": {
          "base_uri": "https://localhost:8080/",
          "height": 204
        },
        "id": "55dmweTF8E9Z",
        "outputId": "0f61b1be-ee42-4596-ab68-d498f5962bbd"
      },
      "source": [
        "df = pd.read_csv('stock prices.csv')\n",
        "df.head()"
      ],
      "execution_count": null,
      "outputs": [
        {
          "output_type": "execute_result",
          "data": {
            "text/html": [
              "<div>\n",
              "<style scoped>\n",
              "    .dataframe tbody tr th:only-of-type {\n",
              "        vertical-align: middle;\n",
              "    }\n",
              "\n",
              "    .dataframe tbody tr th {\n",
              "        vertical-align: top;\n",
              "    }\n",
              "\n",
              "    .dataframe thead th {\n",
              "        text-align: right;\n",
              "    }\n",
              "</style>\n",
              "<table border=\"1\" class=\"dataframe\">\n",
              "  <thead>\n",
              "    <tr style=\"text-align: right;\">\n",
              "      <th></th>\n",
              "      <th>symbol</th>\n",
              "      <th>date</th>\n",
              "      <th>open</th>\n",
              "      <th>high</th>\n",
              "      <th>low</th>\n",
              "      <th>close</th>\n",
              "      <th>volume</th>\n",
              "    </tr>\n",
              "  </thead>\n",
              "  <tbody>\n",
              "    <tr>\n",
              "      <th>0</th>\n",
              "      <td>AAL</td>\n",
              "      <td>2014-01-02</td>\n",
              "      <td>25.0700</td>\n",
              "      <td>25.8200</td>\n",
              "      <td>25.0600</td>\n",
              "      <td>25.3600</td>\n",
              "      <td>8998943</td>\n",
              "    </tr>\n",
              "    <tr>\n",
              "      <th>1</th>\n",
              "      <td>AAPL</td>\n",
              "      <td>2014-01-02</td>\n",
              "      <td>79.3828</td>\n",
              "      <td>79.5756</td>\n",
              "      <td>78.8601</td>\n",
              "      <td>79.0185</td>\n",
              "      <td>58791957</td>\n",
              "    </tr>\n",
              "    <tr>\n",
              "      <th>2</th>\n",
              "      <td>AAP</td>\n",
              "      <td>2014-01-02</td>\n",
              "      <td>110.3600</td>\n",
              "      <td>111.8800</td>\n",
              "      <td>109.2900</td>\n",
              "      <td>109.7400</td>\n",
              "      <td>542711</td>\n",
              "    </tr>\n",
              "    <tr>\n",
              "      <th>3</th>\n",
              "      <td>ABBV</td>\n",
              "      <td>2014-01-02</td>\n",
              "      <td>52.1200</td>\n",
              "      <td>52.3300</td>\n",
              "      <td>51.5200</td>\n",
              "      <td>51.9800</td>\n",
              "      <td>4569061</td>\n",
              "    </tr>\n",
              "    <tr>\n",
              "      <th>4</th>\n",
              "      <td>ABC</td>\n",
              "      <td>2014-01-02</td>\n",
              "      <td>70.1100</td>\n",
              "      <td>70.2300</td>\n",
              "      <td>69.4800</td>\n",
              "      <td>69.8900</td>\n",
              "      <td>1148391</td>\n",
              "    </tr>\n",
              "  </tbody>\n",
              "</table>\n",
              "</div>"
            ],
            "text/plain": [
              "  symbol        date      open      high       low     close    volume\n",
              "0    AAL  2014-01-02   25.0700   25.8200   25.0600   25.3600   8998943\n",
              "1   AAPL  2014-01-02   79.3828   79.5756   78.8601   79.0185  58791957\n",
              "2    AAP  2014-01-02  110.3600  111.8800  109.2900  109.7400    542711\n",
              "3   ABBV  2014-01-02   52.1200   52.3300   51.5200   51.9800   4569061\n",
              "4    ABC  2014-01-02   70.1100   70.2300   69.4800   69.8900   1148391"
            ]
          },
          "metadata": {},
          "execution_count": 2
        }
      ]
    },
    {
      "cell_type": "markdown",
      "metadata": {
        "id": "RMpQ720z1ARy"
      },
      "source": [
        "kode diatas merupakan proses membaca data yang akan digunakan, dimana pada data tersebut terdapat 7 kolom yaitu kolom symbol merupakan nama perusahaan, kolom date merupakan tanggal kapan perdagangan dilakukan, kolom high merupakan harga tertinggi dari suatu stock, kolom low merupakan harga terendah dari suatu stock barang,"
      ]
    },
    {
      "cell_type": "code",
      "metadata": {
        "colab": {
          "base_uri": "https://localhost:8080/"
        },
        "id": "lQq3hUswF5Ex",
        "outputId": "4490e822-faf8-407d-bbca-27391b49d47d"
      },
      "source": [
        "symbol = df['symbol'].value_counts()\n",
        "print(symbol)"
      ],
      "execution_count": null,
      "outputs": [
        {
          "output_type": "stream",
          "name": "stdout",
          "text": [
            "XRX     1007\n",
            "PRU     1007\n",
            "WHR     1007\n",
            "GIS     1007\n",
            "DFS     1007\n",
            "        ... \n",
            "DXC      189\n",
            "BHGE     126\n",
            "BHF      117\n",
            "DWDP      83\n",
            "APTV      18\n",
            "Name: symbol, Length: 505, dtype: int64\n"
          ]
        }
      ]
    },
    {
      "cell_type": "markdown",
      "metadata": {
        "id": "h2nUVwnh1KVj"
      },
      "source": [
        "kode diatas merupakan proses menghitung banyak barang dari sebuah perusahaan."
      ]
    },
    {
      "cell_type": "code",
      "metadata": {
        "colab": {
          "base_uri": "https://localhost:8080/"
        },
        "id": "JI1VWyS6-Hkq",
        "outputId": "1f6bd360-8e6e-45c4-c168-4af801b7a338"
      },
      "source": [
        "df.info()"
      ],
      "execution_count": null,
      "outputs": [
        {
          "output_type": "stream",
          "name": "stdout",
          "text": [
            "<class 'pandas.core.frame.DataFrame'>\n",
            "RangeIndex: 497472 entries, 0 to 497471\n",
            "Data columns (total 7 columns):\n",
            " #   Column  Non-Null Count   Dtype  \n",
            "---  ------  --------------   -----  \n",
            " 0   symbol  497472 non-null  object \n",
            " 1   date    497472 non-null  object \n",
            " 2   open    497461 non-null  float64\n",
            " 3   high    497464 non-null  float64\n",
            " 4   low     497464 non-null  float64\n",
            " 5   close   497472 non-null  float64\n",
            " 6   volume  497472 non-null  int64  \n",
            "dtypes: float64(4), int64(1), object(2)\n",
            "memory usage: 26.6+ MB\n"
          ]
        }
      ]
    },
    {
      "cell_type": "markdown",
      "metadata": {
        "id": "YBR_QdLv1_Wy"
      },
      "source": [
        "kode diatas merupakan prosen pengcekan data/tipe data apakah ada data yang bernilai null atau tidak"
      ]
    },
    {
      "cell_type": "code",
      "metadata": {
        "colab": {
          "base_uri": "https://localhost:8080/",
          "height": 297
        },
        "id": "jI6tEzytAprh",
        "outputId": "04e9a30a-2b81-4c1d-d54f-9e291e1c2c53"
      },
      "source": [
        "df.describe()"
      ],
      "execution_count": null,
      "outputs": [
        {
          "output_type": "execute_result",
          "data": {
            "text/html": [
              "<div>\n",
              "<style scoped>\n",
              "    .dataframe tbody tr th:only-of-type {\n",
              "        vertical-align: middle;\n",
              "    }\n",
              "\n",
              "    .dataframe tbody tr th {\n",
              "        vertical-align: top;\n",
              "    }\n",
              "\n",
              "    .dataframe thead th {\n",
              "        text-align: right;\n",
              "    }\n",
              "</style>\n",
              "<table border=\"1\" class=\"dataframe\">\n",
              "  <thead>\n",
              "    <tr style=\"text-align: right;\">\n",
              "      <th></th>\n",
              "      <th>open</th>\n",
              "      <th>high</th>\n",
              "      <th>low</th>\n",
              "      <th>close</th>\n",
              "      <th>volume</th>\n",
              "    </tr>\n",
              "  </thead>\n",
              "  <tbody>\n",
              "    <tr>\n",
              "      <th>count</th>\n",
              "      <td>497461.000000</td>\n",
              "      <td>497464.000000</td>\n",
              "      <td>497464.000000</td>\n",
              "      <td>497472.000000</td>\n",
              "      <td>4.974720e+05</td>\n",
              "    </tr>\n",
              "    <tr>\n",
              "      <th>mean</th>\n",
              "      <td>86.352275</td>\n",
              "      <td>87.132562</td>\n",
              "      <td>85.552467</td>\n",
              "      <td>86.369082</td>\n",
              "      <td>4.253611e+06</td>\n",
              "    </tr>\n",
              "    <tr>\n",
              "      <th>std</th>\n",
              "      <td>101.471228</td>\n",
              "      <td>102.312062</td>\n",
              "      <td>100.570957</td>\n",
              "      <td>101.472407</td>\n",
              "      <td>8.232139e+06</td>\n",
              "    </tr>\n",
              "    <tr>\n",
              "      <th>min</th>\n",
              "      <td>1.620000</td>\n",
              "      <td>1.690000</td>\n",
              "      <td>1.500000</td>\n",
              "      <td>1.590000</td>\n",
              "      <td>0.000000e+00</td>\n",
              "    </tr>\n",
              "    <tr>\n",
              "      <th>25%</th>\n",
              "      <td>41.690000</td>\n",
              "      <td>42.090000</td>\n",
              "      <td>41.280000</td>\n",
              "      <td>41.703750</td>\n",
              "      <td>1.080166e+06</td>\n",
              "    </tr>\n",
              "    <tr>\n",
              "      <th>50%</th>\n",
              "      <td>64.970000</td>\n",
              "      <td>65.560000</td>\n",
              "      <td>64.353700</td>\n",
              "      <td>64.980000</td>\n",
              "      <td>2.084896e+06</td>\n",
              "    </tr>\n",
              "    <tr>\n",
              "      <th>75%</th>\n",
              "      <td>98.410000</td>\n",
              "      <td>99.230000</td>\n",
              "      <td>97.580000</td>\n",
              "      <td>98.420000</td>\n",
              "      <td>4.271928e+06</td>\n",
              "    </tr>\n",
              "    <tr>\n",
              "      <th>max</th>\n",
              "      <td>2044.000000</td>\n",
              "      <td>2067.990000</td>\n",
              "      <td>2035.110000</td>\n",
              "      <td>2049.000000</td>\n",
              "      <td>6.182376e+08</td>\n",
              "    </tr>\n",
              "  </tbody>\n",
              "</table>\n",
              "</div>"
            ],
            "text/plain": [
              "                open           high            low          close        volume\n",
              "count  497461.000000  497464.000000  497464.000000  497472.000000  4.974720e+05\n",
              "mean       86.352275      87.132562      85.552467      86.369082  4.253611e+06\n",
              "std       101.471228     102.312062     100.570957     101.472407  8.232139e+06\n",
              "min         1.620000       1.690000       1.500000       1.590000  0.000000e+00\n",
              "25%        41.690000      42.090000      41.280000      41.703750  1.080166e+06\n",
              "50%        64.970000      65.560000      64.353700      64.980000  2.084896e+06\n",
              "75%        98.410000      99.230000      97.580000      98.420000  4.271928e+06\n",
              "max      2044.000000    2067.990000    2035.110000    2049.000000  6.182376e+08"
            ]
          },
          "metadata": {},
          "execution_count": 5
        }
      ]
    },
    {
      "cell_type": "markdown",
      "metadata": {
        "id": "v0El-wx-2LFo"
      },
      "source": [
        "kode diatas merupakan proses pendeksripsian data"
      ]
    },
    {
      "cell_type": "code",
      "metadata": {
        "colab": {
          "base_uri": "https://localhost:8080/"
        },
        "id": "_HFU4wNCCKoH",
        "outputId": "25bbc39a-5441-471f-f43b-700126c8ff40"
      },
      "source": [
        "df.count()"
      ],
      "execution_count": null,
      "outputs": [
        {
          "output_type": "execute_result",
          "data": {
            "text/plain": [
              "symbol    497472\n",
              "date      497472\n",
              "open      497461\n",
              "high      497464\n",
              "low       497464\n",
              "close     497472\n",
              "volume    497472\n",
              "dtype: int64"
            ]
          },
          "metadata": {},
          "execution_count": 6
        }
      ]
    },
    {
      "cell_type": "markdown",
      "metadata": {
        "id": "wX7q6kBx2bkr"
      },
      "source": [
        "kod diatas merupakan proses perhitungan jumlah baris dari setiap kolom dari data yang digunakan"
      ]
    },
    {
      "cell_type": "code",
      "metadata": {
        "colab": {
          "base_uri": "https://localhost:8080/"
        },
        "id": "59MD3lMhCQhf",
        "outputId": "25587817-2107-437a-caa2-b99d8d2e4a73"
      },
      "source": [
        "df.isnull().sum()"
      ],
      "execution_count": null,
      "outputs": [
        {
          "output_type": "execute_result",
          "data": {
            "text/plain": [
              "symbol     0\n",
              "date       0\n",
              "open      11\n",
              "high       8\n",
              "low        8\n",
              "close      0\n",
              "volume     0\n",
              "dtype: int64"
            ]
          },
          "metadata": {},
          "execution_count": 7
        }
      ]
    },
    {
      "cell_type": "markdown",
      "metadata": {
        "id": "kFGsLXGx2rKb"
      },
      "source": [
        "kode diatas merupakan proses pengecekan data apakah masih ada data yang bernilai null atau tidak."
      ]
    },
    {
      "cell_type": "code",
      "metadata": {
        "colab": {
          "base_uri": "https://localhost:8080/",
          "height": 613
        },
        "id": "w28SfpGkDMW-",
        "outputId": "72e49939-346d-4fbc-c6ed-59b765b21025"
      },
      "source": [
        "plt.figure(figsize=(10,10))\n",
        "sns.heatmap(df.corr(), annot=True)"
      ],
      "execution_count": null,
      "outputs": [
        {
          "output_type": "execute_result",
          "data": {
            "text/plain": [
              "<matplotlib.axes._subplots.AxesSubplot at 0x7fbf7df65310>"
            ]
          },
          "metadata": {},
          "execution_count": 8
        },
        {
          "output_type": "display_data",
          "data": {
            "image/png": "[encoded data removed]",
            "text/plain": [
              "<Figure size 720x720 with 2 Axes>"
            ]
          },
          "metadata": {
            "needs_background": "light"
          }
        }
      ]
    },
    {
      "cell_type": "markdown",
      "metadata": {
        "id": "xMXaZpHr5Vnc"
      },
      "source": [
        "kode diatas merupakan proses"
      ]
    },
    {
      "cell_type": "markdown",
      "metadata": {
        "id": "5H19FVb5EyHC"
      },
      "source": [
        "#Prepocessing Data\n",
        "\n",
        "dilakukan proses preprocessing data yaitu berupa menghapus data bernilai null dan juga mengubah tipe data objek menjadi tipe data integer. fitur selection dilakukna untuk memilih seluruh kolom selain kolom date sebagai parameter untuk proses clusstering.\n"
      ]
    },
    {
      "cell_type": "code",
      "metadata": {
        "colab": {
          "base_uri": "https://localhost:8080/",
          "height": 204
        },
        "id": "ZS1Xuh_wD6RO",
        "outputId": "4a1ff674-b7ba-4778-c325-a0dd33fecab4"
      },
      "source": [
        "df = df.drop(columns=['date'])\n",
        "df.head()"
      ],
      "execution_count": null,
      "outputs": [
        {
          "output_type": "execute_result",
          "data": {
            "text/html": [
              "<div>\n",
              "<style scoped>\n",
              "    .dataframe tbody tr th:only-of-type {\n",
              "        vertical-align: middle;\n",
              "    }\n",
              "\n",
              "    .dataframe tbody tr th {\n",
              "        vertical-align: top;\n",
              "    }\n",
              "\n",
              "    .dataframe thead th {\n",
              "        text-align: right;\n",
              "    }\n",
              "</style>\n",
              "<table border=\"1\" class=\"dataframe\">\n",
              "  <thead>\n",
              "    <tr style=\"text-align: right;\">\n",
              "      <th></th>\n",
              "      <th>symbol</th>\n",
              "      <th>open</th>\n",
              "      <th>high</th>\n",
              "      <th>low</th>\n",
              "      <th>close</th>\n",
              "      <th>volume</th>\n",
              "    </tr>\n",
              "  </thead>\n",
              "  <tbody>\n",
              "    <tr>\n",
              "      <th>0</th>\n",
              "      <td>AAL</td>\n",
              "      <td>25.0700</td>\n",
              "      <td>25.8200</td>\n",
              "      <td>25.0600</td>\n",
              "      <td>25.3600</td>\n",
              "      <td>8998943</td>\n",
              "    </tr>\n",
              "    <tr>\n",
              "      <th>1</th>\n",
              "      <td>AAPL</td>\n",
              "      <td>79.3828</td>\n",
              "      <td>79.5756</td>\n",
              "      <td>78.8601</td>\n",
              "      <td>79.0185</td>\n",
              "      <td>58791957</td>\n",
              "    </tr>\n",
              "    <tr>\n",
              "      <th>2</th>\n",
              "      <td>AAP</td>\n",
              "      <td>110.3600</td>\n",
              "      <td>111.8800</td>\n",
              "      <td>109.2900</td>\n",
              "      <td>109.7400</td>\n",
              "      <td>542711</td>\n",
              "    </tr>\n",
              "    <tr>\n",
              "      <th>3</th>\n",
              "      <td>ABBV</td>\n",
              "      <td>52.1200</td>\n",
              "      <td>52.3300</td>\n",
              "      <td>51.5200</td>\n",
              "      <td>51.9800</td>\n",
              "      <td>4569061</td>\n",
              "    </tr>\n",
              "    <tr>\n",
              "      <th>4</th>\n",
              "      <td>ABC</td>\n",
              "      <td>70.1100</td>\n",
              "      <td>70.2300</td>\n",
              "      <td>69.4800</td>\n",
              "      <td>69.8900</td>\n",
              "      <td>1148391</td>\n",
              "    </tr>\n",
              "  </tbody>\n",
              "</table>\n",
              "</div>"
            ],
            "text/plain": [
              "  symbol      open      high       low     close    volume\n",
              "0    AAL   25.0700   25.8200   25.0600   25.3600   8998943\n",
              "1   AAPL   79.3828   79.5756   78.8601   79.0185  58791957\n",
              "2    AAP  110.3600  111.8800  109.2900  109.7400    542711\n",
              "3   ABBV   52.1200   52.3300   51.5200   51.9800   4569061\n",
              "4    ABC   70.1100   70.2300   69.4800   69.8900   1148391"
            ]
          },
          "metadata": {},
          "execution_count": 9
        }
      ]
    },
    {
      "cell_type": "markdown",
      "metadata": {
        "id": "tBkDVnIK6JLf"
      },
      "source": [
        "kode diatas merupakan proses penghapusan data date karena tidak terlalu penting dalam pengambilan keputusan."
      ]
    },
    {
      "cell_type": "code",
      "metadata": {
        "id": "p1y3r2vdW2xl"
      },
      "source": [
        "df = df.dropna()"
      ],
      "execution_count": null,
      "outputs": []
    },
    {
      "cell_type": "markdown",
      "metadata": {
        "id": "TaKu9Yzg6WpS"
      },
      "source": [
        "kode diatas merupakan proses penghapusan data yang masih bernilai null."
      ]
    },
    {
      "cell_type": "code",
      "metadata": {
        "colab": {
          "base_uri": "https://localhost:8080/"
        },
        "id": "6bzr8KfNXDXm",
        "outputId": "5ddb4062-d3ce-4332-db2c-155a2575394f"
      },
      "source": [
        "df.isnull().sum()"
      ],
      "execution_count": null,
      "outputs": [
        {
          "output_type": "execute_result",
          "data": {
            "text/plain": [
              "symbol    0\n",
              "open      0\n",
              "high      0\n",
              "low       0\n",
              "close     0\n",
              "volume    0\n",
              "dtype: int64"
            ]
          },
          "metadata": {},
          "execution_count": 11
        }
      ]
    },
    {
      "cell_type": "markdown",
      "metadata": {
        "id": "vbev88vQ6k0w"
      },
      "source": [
        "kode diatas merupakan proses pengecekan kembali data yang masih bernilai null"
      ]
    },
    {
      "cell_type": "code",
      "metadata": {
        "id": "K85vod4oViw-"
      },
      "source": [
        "from sklearn.preprocessing import LabelEncoder"
      ],
      "execution_count": null,
      "outputs": []
    },
    {
      "cell_type": "markdown",
      "metadata": {
        "id": "Pl3ky6Ne6ql9"
      },
      "source": [
        "pengimportan library LaberEncoder yang digunakan untuk mengubah data yang bertipe objek menjadi Integer"
      ]
    },
    {
      "cell_type": "code",
      "metadata": {
        "colab": {
          "base_uri": "https://localhost:8080/",
          "height": 204
        },
        "id": "skkJpbd9V8U9",
        "outputId": "2ff8f34e-e1c1-4d48-b379-5cc32556e197"
      },
      "source": [
        "labels = LabelEncoder()\n",
        "labels.fit(df['symbol'])\n",
        "df['symbol'] = labels.transform(df['symbol'])\n",
        "df.head()"
      ],
      "execution_count": null,
      "outputs": [
        {
          "output_type": "execute_result",
          "data": {
            "text/html": [
              "<div>\n",
              "<style scoped>\n",
              "    .dataframe tbody tr th:only-of-type {\n",
              "        vertical-align: middle;\n",
              "    }\n",
              "\n",
              "    .dataframe tbody tr th {\n",
              "        vertical-align: top;\n",
              "    }\n",
              "\n",
              "    .dataframe thead th {\n",
              "        text-align: right;\n",
              "    }\n",
              "</style>\n",
              "<table border=\"1\" class=\"dataframe\">\n",
              "  <thead>\n",
              "    <tr style=\"text-align: right;\">\n",
              "      <th></th>\n",
              "      <th>symbol</th>\n",
              "      <th>open</th>\n",
              "      <th>high</th>\n",
              "      <th>low</th>\n",
              "      <th>close</th>\n",
              "      <th>volume</th>\n",
              "    </tr>\n",
              "  </thead>\n",
              "  <tbody>\n",
              "    <tr>\n",
              "      <th>0</th>\n",
              "      <td>1</td>\n",
              "      <td>25.0700</td>\n",
              "      <td>25.8200</td>\n",
              "      <td>25.0600</td>\n",
              "      <td>25.3600</td>\n",
              "      <td>8998943</td>\n",
              "    </tr>\n",
              "    <tr>\n",
              "      <th>1</th>\n",
              "      <td>3</td>\n",
              "      <td>79.3828</td>\n",
              "      <td>79.5756</td>\n",
              "      <td>78.8601</td>\n",
              "      <td>79.0185</td>\n",
              "      <td>58791957</td>\n",
              "    </tr>\n",
              "    <tr>\n",
              "      <th>2</th>\n",
              "      <td>2</td>\n",
              "      <td>110.3600</td>\n",
              "      <td>111.8800</td>\n",
              "      <td>109.2900</td>\n",
              "      <td>109.7400</td>\n",
              "      <td>542711</td>\n",
              "    </tr>\n",
              "    <tr>\n",
              "      <th>3</th>\n",
              "      <td>4</td>\n",
              "      <td>52.1200</td>\n",
              "      <td>52.3300</td>\n",
              "      <td>51.5200</td>\n",
              "      <td>51.9800</td>\n",
              "      <td>4569061</td>\n",
              "    </tr>\n",
              "    <tr>\n",
              "      <th>4</th>\n",
              "      <td>5</td>\n",
              "      <td>70.1100</td>\n",
              "      <td>70.2300</td>\n",
              "      <td>69.4800</td>\n",
              "      <td>69.8900</td>\n",
              "      <td>1148391</td>\n",
              "    </tr>\n",
              "  </tbody>\n",
              "</table>\n",
              "</div>"
            ],
            "text/plain": [
              "   symbol      open      high       low     close    volume\n",
              "0       1   25.0700   25.8200   25.0600   25.3600   8998943\n",
              "1       3   79.3828   79.5756   78.8601   79.0185  58791957\n",
              "2       2  110.3600  111.8800  109.2900  109.7400    542711\n",
              "3       4   52.1200   52.3300   51.5200   51.9800   4569061\n",
              "4       5   70.1100   70.2300   69.4800   69.8900   1148391"
            ]
          },
          "metadata": {},
          "execution_count": 13
        }
      ]
    },
    {
      "cell_type": "markdown",
      "metadata": {
        "id": "P2yFJf_Q6z_q"
      },
      "source": [
        "kode diatas merupakan proses perubahan tipe data dari object menjadi integer pada kolom symbol menggunakan fungsi Labelencoder() supaya lebih mudah dalam penggunaannya."
      ]
    },
    {
      "cell_type": "code",
      "metadata": {
        "colab": {
          "base_uri": "https://localhost:8080/"
        },
        "id": "DIJ_RtEQWoWU",
        "outputId": "08bce358-b939-4b13-ff9a-dda9baace08e"
      },
      "source": [
        "df.info()"
      ],
      "execution_count": null,
      "outputs": [
        {
          "output_type": "stream",
          "name": "stdout",
          "text": [
            "<class 'pandas.core.frame.DataFrame'>\n",
            "Int64Index: 497461 entries, 0 to 497471\n",
            "Data columns (total 6 columns):\n",
            " #   Column  Non-Null Count   Dtype  \n",
            "---  ------  --------------   -----  \n",
            " 0   symbol  497461 non-null  int64  \n",
            " 1   open    497461 non-null  float64\n",
            " 2   high    497461 non-null  float64\n",
            " 3   low     497461 non-null  float64\n",
            " 4   close   497461 non-null  float64\n",
            " 5   volume  497461 non-null  int64  \n",
            "dtypes: float64(4), int64(2)\n",
            "memory usage: 26.6 MB\n"
          ]
        }
      ]
    },
    {
      "cell_type": "markdown",
      "metadata": {
        "id": "3MqGHEZF7wkz"
      },
      "source": [
        "kode diatas merupakan prosen pengcekan apakah data yang diubah tadi bentuk sudah int atau tidak."
      ]
    },
    {
      "cell_type": "code",
      "metadata": {
        "colab": {
          "base_uri": "https://localhost:8080/",
          "height": 613
        },
        "id": "l3ARkKeGXep6",
        "outputId": "513fde37-2054-4e81-9ed0-49da2da5cf12"
      },
      "source": [
        "plt.figure(figsize=(10,10))\n",
        "sns.heatmap(df.corr(), annot=True)"
      ],
      "execution_count": null,
      "outputs": [
        {
          "output_type": "execute_result",
          "data": {
            "text/plain": [
              "<matplotlib.axes._subplots.AxesSubplot at 0x7fbf74394850>"
            ]
          },
          "metadata": {},
          "execution_count": 15
        },
        {
          "output_type": "display_data",
          "data": {
            "image/png": "[encoded data removed]",
            "text/plain": [
              "<Figure size 720x720 with 2 Axes>"
            ]
          },
          "metadata": {
            "needs_background": "light"
          }
        }
      ]
    },
    {
      "cell_type": "markdown",
      "metadata": {
        "id": "wyCPc6Yo79dQ"
      },
      "source": [
        "kode diatas merupakan proses untuk melihat korelasi antar data yang digunakan."
      ]
    },
    {
      "cell_type": "code",
      "metadata": {
        "id": "8m57JKNhXw8a"
      },
      "source": [
        "from sklearn.preprocessing import MinMaxScaler\n",
        "\n",
        "scaler = MinMaxScaler()\n",
        "df_scaler = scaler.fit_transform(df).astype('float')"
      ],
      "execution_count": null,
      "outputs": []
    },
    {
      "cell_type": "markdown",
      "metadata": {
        "id": "jSEru0Nb8mTa"
      },
      "source": [
        "kode diatas merupakan normalisasi data untuk menyamakan range nilai dari seluruh kolom pada data yang digunakan"
      ]
    },
    {
      "cell_type": "markdown",
      "metadata": {
        "id": "49O3pB8ZZ2Ic"
      },
      "source": [
        "#K-Means Clustering\n"
      ]
    },
    {
      "cell_type": "code",
      "metadata": {
        "id": "-muaONl9aOas"
      },
      "source": [
        "from sklearn.cluster import KMeans"
      ],
      "execution_count": null,
      "outputs": []
    },
    {
      "cell_type": "markdown",
      "metadata": {
        "id": "qsSgghyZ9T-I"
      },
      "source": [
        "pengimportan library Kmeans untuk melakukan proses clusstering"
      ]
    },
    {
      "cell_type": "code",
      "metadata": {
        "id": "vrpxLJbnZ5yM"
      },
      "source": [
        "cluster_test = [i for i in range(2,15)]\n",
        "inertias = []\n",
        "for n_clusters in cluster_test:\n",
        "  km = KMeans(n_clusters=n_clusters).fit(df_scaler)\n",
        "  inertias.append(km.inertia_)"
      ],
      "execution_count": null,
      "outputs": []
    },
    {
      "cell_type": "markdown",
      "metadata": {
        "id": "N_XLbeTD9bjA"
      },
      "source": [
        "kode diatas merupakan tahap awal dari proses clusstering yaitu mencari titik terbaik dari setiap clusster."
      ]
    },
    {
      "cell_type": "code",
      "metadata": {
        "colab": {
          "base_uri": "https://localhost:8080/",
          "height": 312
        },
        "id": "-y4n-SOkaVhD",
        "outputId": "1a4e9f90-377a-46b8-c14a-06062b435540"
      },
      "source": [
        "plt.subplots(figsize=(8, 4))\n",
        "sns.lineplot(x=cluster_test, y=inertias)\n",
        "plt.title('Nilai N dengan Elbow')\n",
        "plt.xlabel('Clusters')\n",
        "plt.ylabel('Inertia')"
      ],
      "execution_count": null,
      "outputs": [
        {
          "output_type": "execute_result",
          "data": {
            "text/plain": [
              "Text(0, 0.5, 'Inertia')"
            ]
          },
          "metadata": {},
          "execution_count": 19
        },
        {
          "output_type": "display_data",
          "data": {
            "image/png": "[encoded data removed]",
            "text/plain": [
              "<Figure size 576x288 with 1 Axes>"
            ]
          },
          "metadata": {
            "needs_background": "light"
          }
        }
      ]
    },
    {
      "cell_type": "markdown",
      "metadata": {
        "id": "IIaN4P5i9xnJ"
      },
      "source": [
        "kode diatas merupakan proses menampilkan banyak clusster yang didapat menggunakan metode elbow"
      ]
    },
    {
      "cell_type": "code",
      "metadata": {
        "id": "0pDsQ9RKbtzS"
      },
      "source": [
        "kmeans = KMeans(n_clusters=5)\n",
        "labels = kmeans.fit_predict(df_scaler)"
      ],
      "execution_count": null,
      "outputs": []
    },
    {
      "cell_type": "markdown",
      "metadata": {
        "id": "1EHN4P_Z-FMV"
      },
      "source": [
        "kode diatas merupakan proses clusstering dengan menggunakan metode KMeans dimana proses ini melakukan clusster sebanyak 5 kelompok. kemudian hasil dari prediksi yang dilakukan akan disimpak pada variabel labels"
      ]
    },
    {
      "cell_type": "code",
      "metadata": {
        "colab": {
          "base_uri": "https://localhost:8080/",
          "height": 204
        },
        "id": "mte3ANyncPSx",
        "outputId": "b1693e12-fc4f-4cf4-e6f6-f558ac8f534d"
      },
      "source": [
        "df['label'] =labels\n",
        "df.head()"
      ],
      "execution_count": null,
      "outputs": [
        {
          "output_type": "execute_result",
          "data": {
            "text/html": [
              "<div>\n",
              "<style scoped>\n",
              "    .dataframe tbody tr th:only-of-type {\n",
              "        vertical-align: middle;\n",
              "    }\n",
              "\n",
              "    .dataframe tbody tr th {\n",
              "        vertical-align: top;\n",
              "    }\n",
              "\n",
              "    .dataframe thead th {\n",
              "        text-align: right;\n",
              "    }\n",
              "</style>\n",
              "<table border=\"1\" class=\"dataframe\">\n",
              "  <thead>\n",
              "    <tr style=\"text-align: right;\">\n",
              "      <th></th>\n",
              "      <th>symbol</th>\n",
              "      <th>open</th>\n",
              "      <th>high</th>\n",
              "      <th>low</th>\n",
              "      <th>close</th>\n",
              "      <th>volume</th>\n",
              "      <th>label</th>\n",
              "    </tr>\n",
              "  </thead>\n",
              "  <tbody>\n",
              "    <tr>\n",
              "      <th>0</th>\n",
              "      <td>1</td>\n",
              "      <td>25.0700</td>\n",
              "      <td>25.8200</td>\n",
              "      <td>25.0600</td>\n",
              "      <td>25.3600</td>\n",
              "      <td>8998943</td>\n",
              "      <td>2</td>\n",
              "    </tr>\n",
              "    <tr>\n",
              "      <th>1</th>\n",
              "      <td>3</td>\n",
              "      <td>79.3828</td>\n",
              "      <td>79.5756</td>\n",
              "      <td>78.8601</td>\n",
              "      <td>79.0185</td>\n",
              "      <td>58791957</td>\n",
              "      <td>2</td>\n",
              "    </tr>\n",
              "    <tr>\n",
              "      <th>2</th>\n",
              "      <td>2</td>\n",
              "      <td>110.3600</td>\n",
              "      <td>111.8800</td>\n",
              "      <td>109.2900</td>\n",
              "      <td>109.7400</td>\n",
              "      <td>542711</td>\n",
              "      <td>2</td>\n",
              "    </tr>\n",
              "    <tr>\n",
              "      <th>3</th>\n",
              "      <td>4</td>\n",
              "      <td>52.1200</td>\n",
              "      <td>52.3300</td>\n",
              "      <td>51.5200</td>\n",
              "      <td>51.9800</td>\n",
              "      <td>4569061</td>\n",
              "      <td>2</td>\n",
              "    </tr>\n",
              "    <tr>\n",
              "      <th>4</th>\n",
              "      <td>5</td>\n",
              "      <td>70.1100</td>\n",
              "      <td>70.2300</td>\n",
              "      <td>69.4800</td>\n",
              "      <td>69.8900</td>\n",
              "      <td>1148391</td>\n",
              "      <td>2</td>\n",
              "    </tr>\n",
              "  </tbody>\n",
              "</table>\n",
              "</div>"
            ],
            "text/plain": [
              "   symbol      open      high       low     close    volume  label\n",
              "0       1   25.0700   25.8200   25.0600   25.3600   8998943      2\n",
              "1       3   79.3828   79.5756   78.8601   79.0185  58791957      2\n",
              "2       2  110.3600  111.8800  109.2900  109.7400    542711      2\n",
              "3       4   52.1200   52.3300   51.5200   51.9800   4569061      2\n",
              "4       5   70.1100   70.2300   69.4800   69.8900   1148391      2"
            ]
          },
          "metadata": {},
          "execution_count": 21
        }
      ]
    },
    {
      "cell_type": "markdown",
      "metadata": {
        "id": "JJ-bc8rK-xQa"
      },
      "source": [
        "kode diatas merupakan proses menampilkan data hasil prediksi yang telah dilakukan dari proses clusstering yang telah dilakukan"
      ]
    },
    {
      "cell_type": "code",
      "metadata": {
        "colab": {
          "base_uri": "https://localhost:8080/",
          "height": 296
        },
        "id": "WuDfRn7Bk9NA",
        "outputId": "86b2df8f-825c-4f96-ce50-ff07bc576c1f"
      },
      "source": [
        "sns.scatterplot(x=df['label'], y=df['symbol'],color=\"r\")"
      ],
      "execution_count": null,
      "outputs": [
        {
          "output_type": "execute_result",
          "data": {
            "text/plain": [
              "<matplotlib.axes._subplots.AxesSubplot at 0x7fbf6450bfd0>"
            ]
          },
          "metadata": {},
          "execution_count": 40
        },
        {
          "output_type": "display_data",
          "data": {
            "image/png": "[encoded data removed]",
            "text/plain": [
              "<Figure size 432x288 with 1 Axes>"
            ]
          },
          "metadata": {
            "needs_background": "light"
          }
        }
      ]
    },
    {
      "cell_type": "markdown",
      "metadata": {
        "id": "BG1bdH9U_AJn"
      },
      "source": [
        "kode diatas merupakan proses yang menampilkan hasil clusster dari kolom symbol yang terbagi menjadi 5 kelompok."
      ]
    },
    {
      "cell_type": "code",
      "metadata": {
        "colab": {
          "base_uri": "https://localhost:8080/",
          "height": 296
        },
        "id": "zfzOijSXl4Hv",
        "outputId": "195c125a-5ce7-4eae-9e80-5eb1d9a49d7f"
      },
      "source": [
        "sns.scatterplot(x=df['label'], y=df['open'])"
      ],
      "execution_count": null,
      "outputs": [
        {
          "output_type": "execute_result",
          "data": {
            "text/plain": [
              "<matplotlib.axes._subplots.AxesSubplot at 0x7fbf65577ed0>"
            ]
          },
          "metadata": {},
          "execution_count": 28
        },
        {
          "output_type": "display_data",
          "data": {
            "image/png": "[encoded data removed]",
            "text/plain": [
              "<Figure size 432x288 with 1 Axes>"
            ]
          },
          "metadata": {
            "needs_background": "light"
          }
        }
      ]
    },
    {
      "cell_type": "markdown",
      "metadata": {
        "id": "PbbCINP-_eil"
      },
      "source": [
        "kode diatas merupakan proses yang menampilkan hasil clusster dari kolom open yang terbagi menjadi 5 kelompok."
      ]
    },
    {
      "cell_type": "code",
      "metadata": {
        "colab": {
          "base_uri": "https://localhost:8080/",
          "height": 296
        },
        "id": "zeJK7TMimOsX",
        "outputId": "fc7776ee-1d75-47dc-f095-1cac4b2dd49e"
      },
      "source": [
        "sns.scatterplot(x=df['label'], y=df['close'], color=\"g\")"
      ],
      "execution_count": null,
      "outputs": [
        {
          "output_type": "execute_result",
          "data": {
            "text/plain": [
              "<matplotlib.axes._subplots.AxesSubplot at 0x7fbf64411150>"
            ]
          },
          "metadata": {},
          "execution_count": 42
        },
        {
          "output_type": "display_data",
          "data": {
            "image/png": "[encoded data removed]",
            "text/plain": [
              "<Figure size 432x288 with 1 Axes>"
            ]
          },
          "metadata": {
            "needs_background": "light"
          }
        }
      ]
    },
    {
      "cell_type": "markdown",
      "metadata": {
        "id": "tKZPXNwh_iGJ"
      },
      "source": [
        "kode diatas merupakan proses yang menampilkan hasil clusster dari kolom close yang terbagi menjadi 5 kelompok."
      ]
    },
    {
      "cell_type": "code",
      "metadata": {
        "colab": {
          "base_uri": "https://localhost:8080/",
          "height": 296
        },
        "id": "QrFsMchwmRPP",
        "outputId": "26955f1b-1996-4fb9-b618-9a074d0d2bf9"
      },
      "source": [
        "sns.scatterplot(x=df['label'], y=df['low'], color=\"y\")"
      ],
      "execution_count": null,
      "outputs": [
        {
          "output_type": "execute_result",
          "data": {
            "text/plain": [
              "<matplotlib.axes._subplots.AxesSubplot at 0x7fbf643841d0>"
            ]
          },
          "metadata": {},
          "execution_count": 43
        },
        {
          "output_type": "display_data",
          "data": {
            "image/png": "[encoded data removed]",
            "text/plain": [
              "<Figure size 432x288 with 1 Axes>"
            ]
          },
          "metadata": {
            "needs_background": "light"
          }
        }
      ]
    },
    {
      "cell_type": "markdown",
      "metadata": {
        "id": "TthsJ6n4_mAM"
      },
      "source": [
        "kode diatas merupakan proses yang menampilkan hasil clusster dari kolom low yang terbagi menjadi 5 kelompok."
      ]
    },
    {
      "cell_type": "code",
      "metadata": {
        "colab": {
          "base_uri": "https://localhost:8080/",
          "height": 296
        },
        "id": "Q3Rs2U6OmpSM",
        "outputId": "8e5d7be3-2273-4e7d-ad69-d5c605ecf591"
      },
      "source": [
        "sns.scatterplot(x=df['label'], y=df['high'], color =\"c\")"
      ],
      "execution_count": null,
      "outputs": [
        {
          "output_type": "execute_result",
          "data": {
            "text/plain": [
              "<matplotlib.axes._subplots.AxesSubplot at 0x7fbf64234450>"
            ]
          },
          "metadata": {},
          "execution_count": 46
        },
        {
          "output_type": "display_data",
          "data": {
            "image/png": "[encoded data removed]",
            "text/plain": [
              "<Figure size 432x288 with 1 Axes>"
            ]
          },
          "metadata": {
            "needs_background": "light"
          }
        }
      ]
    },
    {
      "cell_type": "markdown",
      "metadata": {
        "id": "GSz_coHy_pX9"
      },
      "source": [
        "kode diatas merupakan proses yang menampilkan hasil clusster dari kolom high yang terbagi menjadi 5 kelompok."
      ]
    },
    {
      "cell_type": "code",
      "metadata": {
        "colab": {
          "base_uri": "https://localhost:8080/",
          "height": 307
        },
        "id": "HTxXzqvim7km",
        "outputId": "97aac0b1-75e6-451c-8349-8b181394e1e1"
      },
      "source": [
        "sns.scatterplot(x=df['label'], y=df['volume'],color=\"m\")"
      ],
      "execution_count": null,
      "outputs": [
        {
          "output_type": "execute_result",
          "data": {
            "text/plain": [
              "<matplotlib.axes._subplots.AxesSubplot at 0x7fbf641b63d0>"
            ]
          },
          "metadata": {},
          "execution_count": 47
        },
        {
          "output_type": "display_data",
          "data": {
            "image/png": "[encoded data removed]",
            "text/plain": [
              "<Figure size 432x288 with 1 Axes>"
            ]
          },
          "metadata": {
            "needs_background": "light"
          }
        }
      ]
    },
    {
      "cell_type": "markdown",
      "metadata": {
        "id": "pbli6LEq_ss9"
      },
      "source": [
        "kode diatas merupakan proses yang menampilkan hasil clusster dari volume symbol yang terbagi menjadi 5 kelompok."
      ]
    },
    {
      "cell_type": "code",
      "metadata": {
        "id": "MJxydCwrnFlP"
      },
      "source": [],
      "execution_count": null,
      "outputs": []
    },
    {
      "cell_type": "markdown",
      "metadata": {
        "id": "t7P2PL_UFVtO"
      },
      "source": [
        "\n",
        "3. clusstering dilakukan menggunakan algoritma KMeans dimana kelompok terbagi menjadi 5 kelompok karena hasil dari grafik KM inertia menunjukkan bahwa cluster kelima merupakan clusster yang paling baik. isi dari clusster tersebut ditentukan berdasarkan nilai yang paling mendekati dengan centroid(titik clusster)."
      ]
    }
  ]
}